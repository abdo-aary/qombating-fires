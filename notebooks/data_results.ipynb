{
 "cells": [
  {
   "cell_type": "markdown",
   "id": "d969d306-5a2d-4c32-9170-9e3aeaf0e972",
   "metadata": {},
   "source": [
    "### To illustrate the utility of the optimisation of the drone path over cells that could catch fire, we are going to see how much burned area we can save using theses drones with a classical optimisation and a quantum optimisation, with the forecasting of the quantum model."
   ]
  },
  {
   "cell_type": "markdown",
   "id": "cc7eaa38-beca-4a34-9758-7cd6b6a0f70b",
   "metadata": {},
   "source": [
    "If you don't have the results of the optimisation after forecasting, to get the same results as us you can use the file get_results.py in the data/get/repository directory to download the results from our google drive."
   ]
  },
  {
   "cell_type": "code",
   "execution_count": 1,
   "id": "2a6b0c56-84c2-4d9d-824b-ef093fe90434",
   "metadata": {
    "tags": []
   },
   "outputs": [
    {
     "name": "stdout",
     "output_type": "stream",
     "text": [
      "The classical method with quantum forecast allow us to save 6.3 Ha of forest from the fire, which is 6.55 % of the total burned area on the 2020-05-21 00:00:00 around the city of Saguenay\n",
      "The quantum method with quantum forecast allow us to save 4.2 Ha of forest from the fire, which is 4.37 % of the total burned area on the 2020-05-21 00:00:00 around the city of Saguenay\n"
     ]
    }
   ],
   "source": [
    "import os\n",
    "import pandas as pd\n",
    "from datetime import timedelta\n",
    "\n",
    "current_dir  = os.getcwd()\n",
    "dataset_pathC = os.path.join(current_dir, '..', 'storage', 'output',\"resultsCSag.csv\")\n",
    "dataset_pathQ = os.path.join(current_dir, '..', 'storage', 'output',\"resultsQSag.csv\")\n",
    "dataset_path = os.path.join(current_dir, '..', 'storage', 'dataset',\"dataset_end_analysis.csv\")\n",
    "resultsC_df = pd.read_csv(dataset_pathC)\n",
    "resultsQ_df = pd.read_csv(dataset_pathQ)\n",
    "df = pd.read_csv(dataset_path)\n",
    "\n",
    "resultsC_df['DATE'] = pd.to_datetime(resultsC_df['DATE'])\n",
    "resultsQ_df['DATE'] = pd.to_datetime(resultsQ_df['DATE'])\n",
    "df['DATE'] = pd.to_datetime(df['DATE'])\n",
    "\n",
    "\n",
    "next_day = resultsC_df['DATE'].iloc[0] + timedelta(days=1)\n",
    "\n",
    "\n",
    "filtered_dataset = df[df['DATE'] == next_day]\n",
    "total_burned = sum(filtered_dataset[\"SIZE_HA\"])\n",
    "\n",
    "merged_C = pd.merge(filtered_dataset, resultsC_df, on=['COORDINATES_LON', 'COORDINATES_LAT','CELL_LON','CELL_LAT'], how='inner')\n",
    "\n",
    "\n",
    "merged_Q = pd.merge(filtered_dataset, resultsQ_df, on=['COORDINATES_LON', 'COORDINATES_LAT','CELL_LON','CELL_LAT'], how='inner')\n",
    "sum_C = round(sum(merged_C[\"SIZE_HA\"]),2)\n",
    "sum_Q = round(sum(merged_Q[\"SIZE_HA\"]),2)\n",
    "\n",
    "print(\"The classical method with quantum forecast allow us to save\",sum_C,\"Ha of forest from the fire, which is\",round(sum_C*100/total_burned,2),\"% of the total burned area on the\",next_day,\"around the city of Saguenay\")\n",
    "print(\"The quantum method with quantum forecast allow us to save\",sum_Q,\"Ha of forest from the fire, which is\",round(sum_Q*100/total_burned,2),\"% of the total burned area on the\",next_day,\"around the city of Saguenay\")\n"
   ]
  },
  {
   "cell_type": "code",
   "execution_count": 2,
   "id": "28d9b764-88dd-48c8-b63f-d47868165767",
   "metadata": {},
   "outputs": [
    {
     "name": "stdout",
     "output_type": "stream",
     "text": [
      "The classical method with quantum forecast allow us to save 58.9 Ha of forest from the fire, which is 61.23 % of the total burned area on the 2020-05-21 00:00:00 around the city of Montréal\n",
      "The quantum method with quantum forecast allow us to save 2.0 Ha of forest from the fire, which is 2.08 % of the total burned area on the 2020-05-21 00:00:00 around the city of Montréal\n"
     ]
    }
   ],
   "source": [
    "current_dir  = os.getcwd()\n",
    "dataset_pathC = os.path.join(current_dir, '..', 'storage', 'output',\"resultsCMtl.csv\")\n",
    "dataset_pathQ = os.path.join(current_dir, '..', 'storage', 'output',\"resultsQMtl.csv\")\n",
    "dataset_path = os.path.join(current_dir, '..', 'storage', 'dataset',\"dataset_end_analysis.csv\")\n",
    "resultsC_df = pd.read_csv(dataset_pathC)\n",
    "resultsQ_df = pd.read_csv(dataset_pathQ)\n",
    "df = pd.read_csv(dataset_path)\n",
    "\n",
    "resultsC_df['DATE'] = pd.to_datetime(resultsC_df['DATE'])\n",
    "resultsQ_df['DATE'] = pd.to_datetime(resultsQ_df['DATE'])\n",
    "df['DATE'] = pd.to_datetime(df['DATE'])\n",
    "\n",
    "\n",
    "next_day = resultsC_df['DATE'].iloc[0] + timedelta(days=1)\n",
    "\n",
    "\n",
    "filtered_dataset = df[df['DATE'] == next_day]\n",
    "\n",
    "\n",
    "merged_C = pd.merge(filtered_dataset, resultsC_df, on=['COORDINATES_LON', 'COORDINATES_LAT','CELL_LON','CELL_LAT'], how='inner')\n",
    "\n",
    "\n",
    "merged_Q = pd.merge(filtered_dataset, resultsQ_df, on=['COORDINATES_LON', 'COORDINATES_LAT','CELL_LON','CELL_LAT'], how='inner')\n",
    "\n",
    "\n",
    "\n",
    "sum_C = round(sum(merged_C[\"SIZE_HA\"]),2)\n",
    "sum_Q = round(sum(merged_Q[\"SIZE_HA\"]),2)\n",
    "\n",
    "print(\"The classical method with quantum forecast allow us to save\",sum_C,\"Ha of forest from the fire, which is\",round(sum_C*100/total_burned,2),\"% of the total burned area on the\",next_day,\"around the city of Montréal\")\n",
    "print(\"The quantum method with quantum forecast allow us to save\",sum_Q,\"Ha of forest from the fire, which is\",round(sum_Q*100/total_burned,2),\"% of the total burned area on the\",next_day,\"around the city of Montréal\")\n"
   ]
  },
  {
   "cell_type": "code",
   "execution_count": 3,
   "id": "564dc147-ebfb-411e-a1b4-bfc1e0a47996",
   "metadata": {
    "tags": []
   },
   "outputs": [
    {
     "name": "stdout",
     "output_type": "stream",
     "text": [
      "The classical method with quantum forecast allow us to save 0.0 Ha of forest, which is 0.0 % of the total burned area on the 2020-05-21 00:00:00 around the city of Guaspé\n",
      "The quantum method with quantum forecast allow us to save 0.0 Ha of forest, which is 0.0 % of the total burned area on the 2020-05-21 00:00:00 around the city of Guaspé\n"
     ]
    }
   ],
   "source": [
    "current_dir  = os.getcwd()\n",
    "dataset_pathC = os.path.join(current_dir, '..', 'storage', 'output',\"resultsCGaspe.csv\")\n",
    "dataset_pathQ = os.path.join(current_dir, '..', 'storage', 'output',\"resultsQGaspe.csv\")\n",
    "dataset_path = os.path.join(current_dir, '..', 'storage', 'dataset',\"dataset_end_analysis.csv\")\n",
    "resultsC_df = pd.read_csv(dataset_pathC)\n",
    "resultsQ_df = pd.read_csv(dataset_pathQ)\n",
    "df = pd.read_csv(dataset_path)\n",
    "\n",
    "resultsC_df['DATE'] = pd.to_datetime(resultsC_df['DATE'])\n",
    "resultsQ_df['DATE'] = pd.to_datetime(resultsQ_df['DATE'])\n",
    "df['DATE'] = pd.to_datetime(df['DATE'])\n",
    "\n",
    "\n",
    "next_day = resultsC_df['DATE'].iloc[0] + timedelta(days=1)\n",
    "\n",
    "\n",
    "filtered_dataset = df[df['DATE'] == next_day]\n",
    "\n",
    "\n",
    "merged_C = pd.merge(filtered_dataset, resultsC_df, on=['COORDINATES_LON', 'COORDINATES_LAT','CELL_LON','CELL_LAT'], how='inner')\n",
    "\n",
    "\n",
    "merged_Q = pd.merge(filtered_dataset, resultsQ_df, on=['COORDINATES_LON', 'COORDINATES_LAT','CELL_LON','CELL_LAT'], how='inner')\n",
    "\n",
    "\n",
    "sum_C = round(sum(merged_C[\"SIZE_HA\"]),2)\n",
    "sum_Q = round(sum(merged_Q[\"SIZE_HA\"]),2)\n",
    "\n",
    "print(\"The classical method with quantum forecast allow us to save\",sum_C,\"Ha of forest, which is\",round(sum_C*100/total_burned,2),\"% of the total burned area on the\",next_day,\"around the city of Guaspé\")\n",
    "print(\"The quantum method with quantum forecast allow us to save\",sum_Q,\"Ha of forest, which is\",round(sum_Q*100/total_burned,2),\"% of the total burned area on the\",next_day,\"around the city of Guaspé\")\n"
   ]
  },
  {
   "cell_type": "markdown",
   "id": "479ba5b4-bb84-4e40-9c75-844b4871f1c4",
   "metadata": {},
   "source": [
    "### In the end, using with the quantum forecasting, and the classical drone optimisation we are able to save 67.78% of the forest that was about to be on fire this day, which is equal to 65.2Ha.\n",
    "### And by using the quantum drone optimisation we are able to save 6.45% of the forest that was about to be on fire this day, which is equal to 6.2Ha."
   ]
  },
  {
   "cell_type": "code",
   "execution_count": 4,
   "id": "cfe4e655-bf72-4ef5-9f35-6c1c42b449fd",
   "metadata": {},
   "outputs": [
    {
     "name": "stdout",
     "output_type": "stream",
     "text": [
      "The classical method with quantum forecast allow us to save 78.9 Ha of forest from the fire, which is 19.54 % of the total burned area between the 2020-05-17 and 2020-05-23 around the city of Montréal\n",
      "The quantum method with quantum forecast allow us to save 122.9 Ha of forest from the fire, which is 30.44 % of the total burned area between the 2020-05-17 and 2020-05-23 around the city of Montréal\n"
     ]
    }
   ],
   "source": [
    "current_dir  = os.getcwd()\n",
    "dataset_pathC = os.path.join(current_dir, '..', 'storage', 'output',\"resultsMtl7C.csv\")\n",
    "dataset_pathQ = os.path.join(current_dir, '..', 'storage', 'output',\"resultsMtl7Q.csv\")\n",
    "dataset_path = os.path.join(current_dir, '..', 'storage', 'dataset',\"dataset_end_analysis.csv\")\n",
    "resultsC_df = pd.read_csv(dataset_pathC)\n",
    "resultsQ_df = pd.read_csv(dataset_pathQ)\n",
    "\n",
    "df = pd.read_csv(dataset_path)\n",
    "start_date = '2020-05-17'\n",
    "end_date = '2020-05-23'\n",
    "\n",
    "filtered_df = df[(df['DATE'] >= start_date) & (df['DATE'] <= end_date)]\n",
    "\n",
    "\n",
    "total_burned = sum(filtered_df[\"SIZE_HA\"])\n",
    "\n",
    "\n",
    "\n",
    "merged_C = pd.merge(filtered_df, resultsC_df, on=['DATE','COORDINATES_LON', 'COORDINATES_LAT','CELL_LON','CELL_LAT'], how='inner')\n",
    "\n",
    "\n",
    "merged_Q = pd.merge(filtered_df, resultsQ_df, on=['DATE','COORDINATES_LON', 'COORDINATES_LAT','CELL_LON','CELL_LAT'], how='inner')\n",
    "\n",
    "\n",
    "\n",
    "sum_C = round(sum(merged_C[\"SIZE_HA\"]),2)\n",
    "sum_Q = round(sum(merged_Q[\"SIZE_HA\"]),2)\n",
    "\n",
    "print(\"The classical method with quantum forecast allow us to save\",sum_C,\"Ha of forest from the fire, which is\",round(sum_C*100/total_burned,2),\"% of the total burned area between the\",start_date,\"and\",end_date,\"around the city of Montréal\")\n",
    "print(\"The quantum method with quantum forecast allow us to save\",sum_Q,\"Ha of forest from the fire, which is\",round(sum_Q*100/total_burned,2),\"% of the total burned area between the\",start_date,\"and\",end_date,\"around the city of Montréal\")\n"
   ]
  },
  {
   "cell_type": "markdown",
   "id": "9c1a0824-4948-456d-bcce-ceb4b4c6308c",
   "metadata": {},
   "source": [
    "### The results for a week show that we are able to pre"
   ]
  }
 ],
 "metadata": {
  "kernelspec": {
   "display_name": "Python (pasqal)",
   "language": "python",
   "name": "pasqal"
  },
  "language_info": {
   "codemirror_mode": {
    "name": "ipython",
    "version": 3
   },
   "file_extension": ".py",
   "mimetype": "text/x-python",
   "name": "python",
   "nbconvert_exporter": "python",
   "pygments_lexer": "ipython3",
   "version": "3.13.2"
  }
 },
 "nbformat": 4,
 "nbformat_minor": 5
}
